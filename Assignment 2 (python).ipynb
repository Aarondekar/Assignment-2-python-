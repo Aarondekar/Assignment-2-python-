{
 "cells": [
  {
   "cell_type": "raw",
   "metadata": {},
   "source": [
    "#Create the below pattern using nested for loop in python\n",
    " *\n",
    " **\n",
    " ***\n",
    " ****\n",
    " *****\n",
    " ****\n",
    " ***\n",
    " **\n",
    " *"
   ]
  },
  {
   "cell_type": "code",
   "execution_count": 2,
   "metadata": {},
   "outputs": [
    {
     "name": "stdout",
     "output_type": "stream",
     "text": [
      "*\n",
      "**\n",
      "***\n",
      "****\n",
      "*****\n",
      "****\n",
      "***\n",
      "**\n",
      "*\n"
     ]
    }
   ],
   "source": [
    "s=\"*\"\n",
    "g=\"******\"\n",
    "for i in g:\n",
    "    if s!=g:\n",
    "        print(s)\n",
    "        s=s+\"*\"\n",
    "    else:\n",
    "        k=4\n",
    "        for i in s:\n",
    "            print(s[0:k])\n",
    "            k=k-1\n",
    "            if k==0:\n",
    "                break"
   ]
  },
  {
   "cell_type": "raw",
   "metadata": {},
   "source": [
    "#Write a python program to reverse a word after accepting input from user.\n",
    "\n",
    "Sample output:\n",
    "    \n",
    "    Input Word: ineuron\n",
    "    Output: norueni    "
   ]
  },
  {
   "cell_type": "code",
   "execution_count": 3,
   "metadata": {},
   "outputs": [
    {
     "name": "stdout",
     "output_type": "stream",
     "text": [
      "Input word : Architecture\n",
      "Output :  erutcetihcrA\n"
     ]
    }
   ],
   "source": [
    "a=(input(\"Input word : \"))\n",
    "\n",
    "\n",
    "x=a[::-1]\n",
    "print(\"Output : \",x)"
   ]
  },
  {
   "cell_type": "code",
   "execution_count": null,
   "metadata": {},
   "outputs": [],
   "source": []
  }
 ],
 "metadata": {
  "kernelspec": {
   "display_name": "Python 3",
   "language": "python",
   "name": "python3"
  },
  "language_info": {
   "codemirror_mode": {
    "name": "ipython",
    "version": 3
   },
   "file_extension": ".py",
   "mimetype": "text/x-python",
   "name": "python",
   "nbconvert_exporter": "python",
   "pygments_lexer": "ipython3",
   "version": "3.8.3"
  }
 },
 "nbformat": 4,
 "nbformat_minor": 4
}
